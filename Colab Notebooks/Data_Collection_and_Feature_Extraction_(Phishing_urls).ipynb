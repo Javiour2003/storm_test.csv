{
  "cells": [
    {
      "cell_type": "markdown",
      "metadata": {
        "id": "nKQG_wrvO4-d"
      },
      "source": [
        "# **Phishing Domain Detection (Data Collection & Feature Extraction)**\n",
        "\n",
        "### **Objective : Collect data and extract necessary features from that data to train Machine Learning models**\n",
        "\n",
        "# **1.0] Data Collection**\n",
        "\n",
        "We'll use this kaggle dataset : https://www.kaggle.com/siddharthkumar25/malicious-and-benign-urls.\n",
        "\n",
        "It contains 450k domain url's out of which 345k are legitimate & 104k are malicious.\n",
        "\n",
        "From this dataset 10,000 url's are randomly collected from each class to train ML models."
      ]
    },
    {
      "cell_type": "code",
      "execution_count": null,
      "metadata": {
        "colab": {
          "base_uri": "https://localhost:8080/",
          "height": 36
        },
        "id": "Hz4_h7AXJqDY",
        "outputId": "82d3d0f1-5110-4fa1-d9d7-fcd7771db7ef"
      },
      "outputs": [
        {
          "ename": "",
          "evalue": "",
          "output_type": "error",
          "traceback": [
            "\u001b[1;31mRunning cells with 'hello' requires the ipykernel package.\n",
            "\u001b[1;31mRun the following command to install 'ipykernel' into the Python environment. \n",
            "\u001b[1;31mCommand: 'conda install -n hello ipykernel --update-deps --force-reinstall'"
          ]
        }
      ],
      "source": [
        "# Check if GPU is being used.\n",
        "\n",
        "import tensorflow as tf\n",
        "tf.test.gpu_device_name()"
      ]
    },
    {
      "cell_type": "code",
      "execution_count": null,
      "metadata": {
        "colab": {
          "base_uri": "https://localhost:8080/",
          "height": 358
        },
        "id": "l64E2cSZJqG6",
        "outputId": "8ba707d0-d4e4-4feb-ff3f-8f5a0110e88c"
      },
      "outputs": [
        {
          "ename": "",
          "evalue": "",
          "output_type": "error",
          "traceback": [
            "\u001b[1;31mRunning cells with 'hello' requires the ipykernel package.\n",
            "\u001b[1;31mRun the following command to install 'ipykernel' into the Python environment. \n",
            "\u001b[1;31mCommand: 'conda install -n hello ipykernel --update-deps --force-reinstall'"
          ]
        }
      ],
      "source": [
        "import pandas as pd\n",
        "\n",
        "# Loading the downloaded dataset\n",
        "df = pd.read_csv(\"/content/drive/MyDrive/urldata.csv\")\n",
        "df.head(10)"
      ]
    },
    {
      "cell_type": "code",
      "execution_count": null,
      "metadata": {
        "colab": {
          "base_uri": "https://localhost:8080/",
          "height": 358
        },
        "id": "M8XB5reeJqKq",
        "outputId": "7542adbd-f338-43cb-82c1-8cdedef81355"
      },
      "outputs": [
        {
          "ename": "",
          "evalue": "",
          "output_type": "error",
          "traceback": [
            "\u001b[1;31mRunning cells with 'hello' requires the ipykernel package.\n",
            "\u001b[1;31mRun the following command to install 'ipykernel' into the Python environment. \n",
            "\u001b[1;31mCommand: 'conda install -n hello ipykernel --update-deps --force-reinstall'"
          ]
        }
      ],
      "source": [
        "#Removing the unnamed columns as it is not necesary.\n",
        "df = df.drop('Unnamed: 0',axis=1)\n",
        "df.head(10)"
      ]
    },
    {
      "cell_type": "code",
      "execution_count": null,
      "metadata": {
        "colab": {
          "base_uri": "https://localhost:8080/"
        },
        "id": "flBv2jacJqOS",
        "outputId": "f659e539-d432-4fa0-a325-56268ed4ee92"
      },
      "outputs": [
        {
          "ename": "",
          "evalue": "",
          "output_type": "error",
          "traceback": [
            "\u001b[1;31mRunning cells with 'hello' requires the ipykernel package.\n",
            "\u001b[1;31mRun the following command to install 'ipykernel' into the Python environment. \n",
            "\u001b[1;31mCommand: 'conda install -n hello ipykernel --update-deps --force-reinstall'"
          ]
        }
      ],
      "source": [
        "df.info()"
      ]
    },
    {
      "cell_type": "code",
      "execution_count": null,
      "metadata": {
        "colab": {
          "base_uri": "https://localhost:8080/"
        },
        "id": "PRUlc4aKJqRd",
        "outputId": "28d4221c-7fd8-4f4a-971c-f9c2a99bd4fd"
      },
      "outputs": [
        {
          "ename": "",
          "evalue": "",
          "output_type": "error",
          "traceback": [
            "\u001b[1;31mRunning cells with 'hello' requires the ipykernel package.\n",
            "\u001b[1;31mRun the following command to install 'ipykernel' into the Python environment. \n",
            "\u001b[1;31mCommand: 'conda install -n hello ipykernel --update-deps --force-reinstall'"
          ]
        }
      ],
      "source": [
        "df.shape"
      ]
    },
    {
      "cell_type": "code",
      "execution_count": null,
      "metadata": {
        "colab": {
          "base_uri": "https://localhost:8080/"
        },
        "id": "ixOjqQFmJqUl",
        "outputId": "1eccc9f9-5a67-4bb4-ff2a-c48f90bef3dc"
      },
      "outputs": [
        {
          "ename": "",
          "evalue": "",
          "output_type": "error",
          "traceback": [
            "\u001b[1;31mRunning cells with 'hello' requires the ipykernel package.\n",
            "\u001b[1;31mRun the following command to install 'ipykernel' into the Python environment. \n",
            "\u001b[1;31mCommand: 'conda install -n hello ipykernel --update-deps --force-reinstall'"
          ]
        }
      ],
      "source": [
        "# Printing number of legit and fraud domain urls\n",
        "df[\"label\"].value_counts()"
      ]
    },
    {
      "cell_type": "markdown",
      "metadata": {
        "id": "QjyioIKFRzkJ"
      },
      "source": [
        "# **2.0] Feature Extraction**\n",
        "\n",
        "In this step, features are extracted from the URLs dataset. In total we'll be extracting 18 features for each url in the dataset\n",
        "\n",
        "The extracted features are categorized into :\n",
        "1. Length based Features\n",
        "2. Count based Features\n",
        "3. Binary Features\n"
      ]
    },
    {
      "cell_type": "markdown",
      "metadata": {
        "id": "tb7_XT7GTCiF"
      },
      "source": [
        "## **2.1] Length Features**\n",
        "\n",
        "The following features will be extracted from the URL for classification.\n",
        "- Length Of Url\n",
        "- Length of Hostname\n",
        "- Length Of Path\n",
        "- Length Of First Directory\n",
        "- Length Of Top Level Domain"
      ]
    },
    {
      "cell_type": "code",
      "execution_count": null,
      "metadata": {
        "id": "BSRSkWhaJqXi"
      },
      "outputs": [
        {
          "ename": "",
          "evalue": "",
          "output_type": "error",
          "traceback": [
            "\u001b[1;31mRunning cells with 'hello' requires the ipykernel package.\n",
            "\u001b[1;31mRun the following command to install 'ipykernel' into the Python environment. \n",
            "\u001b[1;31mCommand: 'conda install -n hello ipykernel --update-deps --force-reinstall'"
          ]
        }
      ],
      "source": [
        "#Importing dependencies\n",
        "from urllib.parse import urlparse\n",
        "import os.path\n",
        "\n",
        "# changing dataframe variable\n",
        "urldata = df"
      ]
    },
    {
      "cell_type": "code",
      "execution_count": null,
      "metadata": {
        "id": "1ZH56y_kT6wx"
      },
      "outputs": [
        {
          "ename": "",
          "evalue": "",
          "output_type": "error",
          "traceback": [
            "\u001b[1;31mRunning cells with 'hello' requires the ipykernel package.\n",
            "\u001b[1;31mRun the following command to install 'ipykernel' into the Python environment. \n",
            "\u001b[1;31mCommand: 'conda install -n hello ipykernel --update-deps --force-reinstall'"
          ]
        }
      ],
      "source": [
        "#Length of URL (Phishers can use long URL to hide the doubtful part in the address bar)\n",
        "urldata['url_length'] = urldata['url'].apply(lambda i: len(str(i)))\n",
        "\n",
        "#Hostname Length\n",
        "urldata['hostname_length'] = urldata['url'].apply(lambda i: len(urlparse(i).netloc))\n",
        "\n",
        "#Path Length\n",
        "urldata['path_length'] = urldata['url'].apply(lambda i: len(urlparse(i).path))"
      ]
    },
    {
      "cell_type": "code",
      "execution_count": null,
      "metadata": {
        "id": "5r8Yn5xuT6zh"
      },
      "outputs": [
        {
          "ename": "",
          "evalue": "",
          "output_type": "error",
          "traceback": [
            "\u001b[1;31mRunning cells with 'hello' requires the ipykernel package.\n",
            "\u001b[1;31mRun the following command to install 'ipykernel' into the Python environment. \n",
            "\u001b[1;31mCommand: 'conda install -n hello ipykernel --update-deps --force-reinstall'"
          ]
        }
      ],
      "source": [
        "#First Directory Length\n",
        "def fd_length(url):\n",
        "    urlpath= urlparse(url).path\n",
        "    try:\n",
        "        return len(urlpath.split('/')[1])\n",
        "    except:\n",
        "        return 0\n",
        "\n",
        "urldata['fd_length'] = urldata['url'].apply(lambda i: fd_length(i))"
      ]
    },
    {
      "cell_type": "code",
      "execution_count": null,
      "metadata": {
        "colab": {
          "base_uri": "https://localhost:8080/",
          "height": 358
        },
        "id": "8qmab-mGUXL7",
        "outputId": "2b8eee6a-40a7-4f04-b068-e7536ed7f330"
      },
      "outputs": [
        {
          "ename": "",
          "evalue": "",
          "output_type": "error",
          "traceback": [
            "\u001b[1;31mRunning cells with 'hello' requires the ipykernel package.\n",
            "\u001b[1;31mRun the following command to install 'ipykernel' into the Python environment. \n",
            "\u001b[1;31mCommand: 'conda install -n hello ipykernel --update-deps --force-reinstall'"
          ]
        }
      ],
      "source": [
        "# printing first few rows\n",
        "urldata.head(10)"
      ]
    },
    {
      "cell_type": "markdown",
      "metadata": {
        "id": "zK16i8ckTa-7"
      },
      "source": [
        "## **2.2] Count Features**\n",
        "\n",
        "The following features will be extracted from the URL for classification.\n",
        "- Count Of '-'\n",
        "- Count Of '@'\n",
        "- Count Of '?'\n",
        "- Count Of '%'\n",
        "- Count Of '.'\n",
        "- Count Of '='\n",
        "- Count Of 'http'\n",
        "- Count Of 'www'\n",
        "- Count Of Digits\n",
        "- Count Of Letters\n",
        "- Count Of Number Of Directories"
      ]
    },
    {
      "cell_type": "code",
      "execution_count": null,
      "metadata": {
        "id": "ErRmw6koJqaZ"
      },
      "outputs": [
        {
          "ename": "",
          "evalue": "",
          "output_type": "error",
          "traceback": [
            "\u001b[1;31mRunning cells with 'hello' requires the ipykernel package.\n",
            "\u001b[1;31mRun the following command to install 'ipykernel' into the Python environment. \n",
            "\u001b[1;31mCommand: 'conda install -n hello ipykernel --update-deps --force-reinstall'"
          ]
        }
      ],
      "source": [
        "\n",
        "# Count of how many times a special character appearsin url\n",
        "\n",
        "urldata['count-'] = urldata['url'].apply(lambda i: i.count('-'))\n",
        "\n",
        "urldata['count@'] = urldata['url'].apply(lambda i: i.count('@'))\n",
        "\n",
        "urldata['count?'] = urldata['url'].apply(lambda i: i.count('?'))\n",
        "\n",
        "urldata['count%'] = urldata['url'].apply(lambda i: i.count('%'))\n",
        "\n",
        "urldata['count.'] = urldata['url'].apply(lambda i: i.count('.'))\n",
        "\n",
        "urldata['count='] = urldata['url'].apply(lambda i: i.count('='))\n",
        "\n",
        "urldata['count-http'] = urldata['url'].apply(lambda i : i.count('http'))\n",
        "\n",
        "urldata['count-https'] = urldata['url'].apply(lambda i : i.count('https'))\n",
        "\n",
        "urldata['count-www'] = urldata['url'].apply(lambda i: i.count('www'))\n"
      ]
    },
    {
      "cell_type": "code",
      "execution_count": null,
      "metadata": {
        "id": "--MD6ziHUzur"
      },
      "outputs": [
        {
          "ename": "",
          "evalue": "",
          "output_type": "error",
          "traceback": [
            "\u001b[1;31mRunning cells with 'hello' requires the ipykernel package.\n",
            "\u001b[1;31mRun the following command to install 'ipykernel' into the Python environment. \n",
            "\u001b[1;31mCommand: 'conda install -n hello ipykernel --update-deps --force-reinstall'"
          ]
        }
      ],
      "source": [
        "def digit_count(url):\n",
        "    digits = 0\n",
        "    for i in url:\n",
        "        if i.isnumeric():\n",
        "            digits = digits + 1\n",
        "    return digits\n",
        "urldata['count-digits']= urldata['url'].apply(lambda i: digit_count(i))"
      ]
    },
    {
      "cell_type": "code",
      "execution_count": null,
      "metadata": {
        "id": "pScMnKRNUzxj"
      },
      "outputs": [
        {
          "ename": "",
          "evalue": "",
          "output_type": "error",
          "traceback": [
            "\u001b[1;31mRunning cells with 'hello' requires the ipykernel package.\n",
            "\u001b[1;31mRun the following command to install 'ipykernel' into the Python environment. \n",
            "\u001b[1;31mCommand: 'conda install -n hello ipykernel --update-deps --force-reinstall'"
          ]
        }
      ],
      "source": [
        "def letter_count(url):\n",
        "    letters = 0\n",
        "    for i in url:\n",
        "        if i.isalpha():\n",
        "            letters = letters + 1\n",
        "    return letters\n",
        "urldata['count-letters']= urldata['url'].apply(lambda i: letter_count(i))"
      ]
    },
    {
      "cell_type": "code",
      "execution_count": null,
      "metadata": {
        "id": "uMuLb8rfUz0D"
      },
      "outputs": [
        {
          "ename": "",
          "evalue": "",
          "output_type": "error",
          "traceback": [
            "\u001b[1;31mRunning cells with 'hello' requires the ipykernel package.\n",
            "\u001b[1;31mRun the following command to install 'ipykernel' into the Python environment. \n",
            "\u001b[1;31mCommand: 'conda install -n hello ipykernel --update-deps --force-reinstall'"
          ]
        }
      ],
      "source": [
        "def no_of_dir(url):\n",
        "    urldir = urlparse(url).path\n",
        "    return urldir.count('/')\n",
        "urldata['count_dir'] = urldata['url'].apply(lambda i: no_of_dir(i))"
      ]
    },
    {
      "cell_type": "code",
      "execution_count": null,
      "metadata": {
        "colab": {
          "base_uri": "https://localhost:8080/",
          "height": 375
        },
        "id": "XiQsbbcwUz3T",
        "outputId": "9d12b7fe-8738-498c-9b5e-dee5abd0f44b"
      },
      "outputs": [
        {
          "ename": "",
          "evalue": "",
          "output_type": "error",
          "traceback": [
            "\u001b[1;31mRunning cells with 'hello' requires the ipykernel package.\n",
            "\u001b[1;31mRun the following command to install 'ipykernel' into the Python environment. \n",
            "\u001b[1;31mCommand: 'conda install -n hello ipykernel --update-deps --force-reinstall'"
          ]
        }
      ],
      "source": [
        "# printing first few rows\n",
        "urldata.head(10)"
      ]
    },
    {
      "cell_type": "markdown",
      "metadata": {
        "id": "-1SraUb_TkOn"
      },
      "source": [
        "## **2.3] Binary Features**\n",
        "\n",
        "The following features will be extracted from the URL for classification.\n",
        "- Use of IP or not\n",
        "- Use of Shortening URL or not"
      ]
    },
    {
      "cell_type": "markdown",
      "metadata": {
        "id": "US3UGAZzY8Id"
      },
      "source": [
        "#### **2.3.1] IP Address in the URL**\n",
        "\n",
        "Checks for the presence of IP address in the URL. URLs may have IP address instead of domain name. If an IP address is used as an alternative of the domain name in the URL, we can be sure that someone is trying to steal personal information with this URL."
      ]
    },
    {
      "cell_type": "code",
      "execution_count": null,
      "metadata": {
        "id": "c2Wg75-GJqen"
      },
      "outputs": [
        {
          "ename": "",
          "evalue": "",
          "output_type": "error",
          "traceback": [
            "\u001b[1;31mRunning cells with 'hello' requires the ipykernel package.\n",
            "\u001b[1;31mRun the following command to install 'ipykernel' into the Python environment. \n",
            "\u001b[1;31mCommand: 'conda install -n hello ipykernel --update-deps --force-reinstall'"
          ]
        }
      ],
      "source": [
        "import re\n",
        "\n",
        "#Use of IP or not in domain\n",
        "def having_ip_address(url):\n",
        "    match = re.search(\n",
        "        '(([01]?\\\\d\\\\d?|2[0-4]\\\\d|25[0-5])\\\\.([01]?\\\\d\\\\d?|2[0-4]\\\\d|25[0-5])\\\\.([01]?\\\\d\\\\d?|2[0-4]\\\\d|25[0-5])\\\\.'\n",
        "        '([01]?\\\\d\\\\d?|2[0-4]\\\\d|25[0-5])\\\\/)|'  # IPv4\n",
        "        '((0x[0-9a-fA-F]{1,2})\\\\.(0x[0-9a-fA-F]{1,2})\\\\.(0x[0-9a-fA-F]{1,2})\\\\.(0x[0-9a-fA-F]{1,2})\\\\/)' # IPv4 in hexadecimal\n",
        "        '(?:[a-fA-F0-9]{1,4}:){7}[a-fA-F0-9]{1,4}', url)  # Ipv6\n",
        "    if match:\n",
        "        # print match.group()\n",
        "        return -1\n",
        "    else:\n",
        "        # print 'No matching pattern found'\n",
        "        return 1\n",
        "urldata['use_of_ip'] = urldata['url'].apply(lambda i: having_ip_address(i))"
      ]
    },
    {
      "cell_type": "markdown",
      "metadata": {
        "id": "dh0VoEeEZIth"
      },
      "source": [
        "#### **2.3.2] Using URL Shortening Services “TinyURL”**\n",
        "\n",
        "URL shortening is a method on the “World Wide Web” in which a URL may be made considerably smaller in length and still lead to the required webpage. This is accomplished by means of an “HTTP Redirect” on a domain name that is short, which links to the webpage that has a long URL."
      ]
    },
    {
      "cell_type": "code",
      "execution_count": null,
      "metadata": {
        "id": "pJ5I8ta6JpWN"
      },
      "outputs": [
        {
          "ename": "",
          "evalue": "",
          "output_type": "error",
          "traceback": [
            "\u001b[1;31mRunning cells with 'hello' requires the ipykernel package.\n",
            "\u001b[1;31mRun the following command to install 'ipykernel' into the Python environment. \n",
            "\u001b[1;31mCommand: 'conda install -n hello ipykernel --update-deps --force-reinstall'"
          ]
        }
      ],
      "source": [
        "# use of url shortening service\n",
        "def shortening_service(url):\n",
        "    match = re.search('bit\\.ly|goo\\.gl|shorte\\.st|go2l\\.ink|x\\.co|ow\\.ly|t\\.co|tinyurl|tr\\.im|is\\.gd|cli\\.gs|'\n",
        "                      'yfrog\\.com|migre\\.me|ff\\.im|tiny\\.cc|url4\\.eu|twit\\.ac|su\\.pr|twurl\\.nl|snipurl\\.com|'\n",
        "                      'short\\.to|BudURL\\.com|ping\\.fm|post\\.ly|Just\\.as|bkite\\.com|snipr\\.com|fic\\.kr|loopt\\.us|'\n",
        "                      'doiop\\.com|short\\.ie|kl\\.am|wp\\.me|rubyurl\\.com|om\\.ly|to\\.ly|bit\\.do|t\\.co|lnkd\\.in|'\n",
        "                      'db\\.tt|qr\\.ae|adf\\.ly|goo\\.gl|bitly\\.com|cur\\.lv|tinyurl\\.com|ow\\.ly|bit\\.ly|ity\\.im|'\n",
        "                      'q\\.gs|is\\.gd|po\\.st|bc\\.vc|twitthis\\.com|u\\.to|j\\.mp|buzurl\\.com|cutt\\.us|u\\.bb|yourls\\.org|'\n",
        "                      'x\\.co|prettylinkpro\\.com|scrnch\\.me|filoops\\.info|vzturl\\.com|qr\\.net|1url\\.com|tweez\\.me|v\\.gd|'\n",
        "                      'tr\\.im|link\\.zip\\.net',\n",
        "                      url)\n",
        "    if match:\n",
        "        return -1\n",
        "    else:\n",
        "        return 1\n",
        "urldata['short_url'] = urldata['url'].apply(lambda i: shortening_service(i))"
      ]
    },
    {
      "cell_type": "code",
      "execution_count": null,
      "metadata": {
        "colab": {
          "base_uri": "https://localhost:8080/",
          "height": 395
        },
        "id": "rveJReKoJpcH",
        "outputId": "b361a0fe-ffab-41a6-ed28-d54f992ddf30"
      },
      "outputs": [
        {
          "ename": "",
          "evalue": "",
          "output_type": "error",
          "traceback": [
            "\u001b[1;31mRunning cells with 'hello' requires the ipykernel package.\n",
            "\u001b[1;31mRun the following command to install 'ipykernel' into the Python environment. \n",
            "\u001b[1;31mCommand: 'conda install -n hello ipykernel --update-deps --force-reinstall'"
          ]
        }
      ],
      "source": [
        "# printing first few rows\n",
        "urldata.head(10)"
      ]
    },
    {
      "cell_type": "code",
      "execution_count": null,
      "metadata": {
        "colab": {
          "base_uri": "https://localhost:8080/"
        },
        "id": "M40gk4n4JphU",
        "outputId": "f369f74b-986a-4db6-b64a-ee0e8cfacaa1"
      },
      "outputs": [
        {
          "ename": "",
          "evalue": "",
          "output_type": "error",
          "traceback": [
            "\u001b[1;31mRunning cells with 'hello' requires the ipykernel package.\n",
            "\u001b[1;31mRun the following command to install 'ipykernel' into the Python environment. \n",
            "\u001b[1;31mCommand: 'conda install -n hello ipykernel --update-deps --force-reinstall'"
          ]
        }
      ],
      "source": [
        "# printing info about current dataset\n",
        "urldata.info()"
      ]
    },
    {
      "cell_type": "markdown",
      "metadata": {
        "id": "4mmD8bv6WTAr"
      },
      "source": [
        "### **Saving the dataset as .csv file**\n"
      ]
    },
    {
      "cell_type": "code",
      "execution_count": null,
      "metadata": {
        "id": "iFkSkAa7WEIK"
      },
      "outputs": [
        {
          "ename": "",
          "evalue": "",
          "output_type": "error",
          "traceback": [
            "\u001b[1;31mRunning cells with 'hello' requires the ipykernel package.\n",
            "\u001b[1;31mRun the following command to install 'ipykernel' into the Python environment. \n",
            "\u001b[1;31mCommand: 'conda install -n hello ipykernel --update-deps --force-reinstall'"
          ]
        }
      ],
      "source": [
        "urldata.to_csv(\"Url_Processed.csv\")"
      ]
    },
    {
      "cell_type": "markdown",
      "metadata": {
        "id": "wBR5ScMzYaGm"
      },
      "source": [
        "## **Conclusion : The objective of this dataset is achieved,we extracted 18 features for each url in our dataset and we saved the final dataset for model training in the next notebook**"
      ]
    }
  ],
  "metadata": {
    "colab": {
      "collapsed_sections": [],
      "name": "Data Collection and Feature Extraction (Phishing urls).ipynb",
      "provenance": []
    },
    "kernelspec": {
      "display_name": "Python 3",
      "name": "python3"
    },
    "language_info": {
      "name": "python",
      "version": "3.10.12"
    }
  },
  "nbformat": 4,
  "nbformat_minor": 0
}
